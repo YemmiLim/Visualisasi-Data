{
 "cells": [
  {
   "cell_type": "markdown",
   "id": "a002b3a6",
   "metadata": {},
   "source": [
    "### Formating tampilan Data Frame"
   ]
  },
  {
   "cell_type": "markdown",
   "id": "3a4986ad",
   "metadata": {},
   "source": [
    "### Import Modul"
   ]
  },
  {
   "cell_type": "code",
   "execution_count": 1,
   "id": "fe8b6def",
   "metadata": {},
   "outputs": [
    {
     "name": "stdout",
     "output_type": "stream",
     "text": [
      "1.2.4\n",
      "1.20.1\n"
     ]
    }
   ],
   "source": [
    "import pandas as pd\n",
    "import numpy as np\n",
    "\n",
    "print(pd.__version__)\n",
    "print(np.__version__)"
   ]
  },
  {
   "cell_type": "markdown",
   "id": "14149831",
   "metadata": {},
   "source": [
    "### Persiapan Data Frame"
   ]
  },
  {
   "cell_type": "code",
   "execution_count": 2,
   "id": "56bc0a4c",
   "metadata": {},
   "outputs": [
    {
     "data": {
      "text/html": [
       "<div>\n",
       "<style scoped>\n",
       "    .dataframe tbody tr th:only-of-type {\n",
       "        vertical-align: middle;\n",
       "    }\n",
       "\n",
       "    .dataframe tbody tr th {\n",
       "        vertical-align: top;\n",
       "    }\n",
       "\n",
       "    .dataframe thead th {\n",
       "        text-align: right;\n",
       "    }\n",
       "</style>\n",
       "<table border=\"1\" class=\"dataframe\">\n",
       "  <thead>\n",
       "    <tr style=\"text-align: right;\">\n",
       "      <th></th>\n",
       "      <th>omset</th>\n",
       "      <th>operasional</th>\n",
       "    </tr>\n",
       "  </thead>\n",
       "  <tbody>\n",
       "    <tr>\n",
       "      <th>0</th>\n",
       "      <td>1</td>\n",
       "      <td>17</td>\n",
       "    </tr>\n",
       "    <tr>\n",
       "      <th>1</th>\n",
       "      <td>12</td>\n",
       "      <td>3</td>\n",
       "    </tr>\n",
       "    <tr>\n",
       "      <th>2</th>\n",
       "      <td>16</td>\n",
       "      <td>19</td>\n",
       "    </tr>\n",
       "    <tr>\n",
       "      <th>3</th>\n",
       "      <td>10</td>\n",
       "      <td>18</td>\n",
       "    </tr>\n",
       "    <tr>\n",
       "      <th>4</th>\n",
       "      <td>2</td>\n",
       "      <td>18</td>\n",
       "    </tr>\n",
       "  </tbody>\n",
       "</table>\n",
       "</div>"
      ],
      "text/plain": [
       "   omset  operasional\n",
       "0      1           17\n",
       "1     12            3\n",
       "2     16           19\n",
       "3     10           18\n",
       "4      2           18"
      ]
     },
     "execution_count": 2,
     "metadata": {},
     "output_type": "execute_result"
    }
   ],
   "source": [
    "n_rows=5\n",
    "n_cols=2\n",
    "cols=['omset','operasional'] #Label Kolom\n",
    "\n",
    "df=pd.DataFrame(np.random.randint(1,20,size=(n_rows,n_cols)),\n",
    "               columns=cols)\n",
    "\n",
    "df"
   ]
  },
  {
   "cell_type": "code",
   "execution_count": 3,
   "id": "a3b4e159",
   "metadata": {},
   "outputs": [
    {
     "data": {
      "text/html": [
       "<div>\n",
       "<style scoped>\n",
       "    .dataframe tbody tr th:only-of-type {\n",
       "        vertical-align: middle;\n",
       "    }\n",
       "\n",
       "    .dataframe tbody tr th {\n",
       "        vertical-align: top;\n",
       "    }\n",
       "\n",
       "    .dataframe thead th {\n",
       "        text-align: right;\n",
       "    }\n",
       "</style>\n",
       "<table border=\"1\" class=\"dataframe\">\n",
       "  <thead>\n",
       "    <tr style=\"text-align: right;\">\n",
       "      <th></th>\n",
       "      <th>omset</th>\n",
       "      <th>operasional</th>\n",
       "    </tr>\n",
       "  </thead>\n",
       "  <tbody>\n",
       "    <tr>\n",
       "      <th>0</th>\n",
       "      <td>100000</td>\n",
       "      <td>170000</td>\n",
       "    </tr>\n",
       "    <tr>\n",
       "      <th>1</th>\n",
       "      <td>1200000</td>\n",
       "      <td>30000</td>\n",
       "    </tr>\n",
       "    <tr>\n",
       "      <th>2</th>\n",
       "      <td>1600000</td>\n",
       "      <td>190000</td>\n",
       "    </tr>\n",
       "    <tr>\n",
       "      <th>3</th>\n",
       "      <td>1000000</td>\n",
       "      <td>180000</td>\n",
       "    </tr>\n",
       "    <tr>\n",
       "      <th>4</th>\n",
       "      <td>200000</td>\n",
       "      <td>180000</td>\n",
       "    </tr>\n",
       "  </tbody>\n",
       "</table>\n",
       "</div>"
      ],
      "text/plain": [
       "     omset  operasional\n",
       "0   100000       170000\n",
       "1  1200000        30000\n",
       "2  1600000       190000\n",
       "3  1000000       180000\n",
       "4   200000       180000"
      ]
     },
     "execution_count": 3,
     "metadata": {},
     "output_type": "execute_result"
    }
   ],
   "source": [
    "df['omset']=df['omset'] *100_000 #tanda _ pada py sebagai node character \n",
    "df['operasional']=df['operasional']*10_000\n",
    "df"
   ]
  },
  {
   "cell_type": "code",
   "execution_count": 6,
   "id": "1f08a05a",
   "metadata": {},
   "outputs": [
    {
     "data": {
      "text/html": [
       "<div>\n",
       "<style scoped>\n",
       "    .dataframe tbody tr th:only-of-type {\n",
       "        vertical-align: middle;\n",
       "    }\n",
       "\n",
       "    .dataframe tbody tr th {\n",
       "        vertical-align: top;\n",
       "    }\n",
       "\n",
       "    .dataframe thead th {\n",
       "        text-align: right;\n",
       "    }\n",
       "</style>\n",
       "<table border=\"1\" class=\"dataframe\">\n",
       "  <thead>\n",
       "    <tr style=\"text-align: right;\">\n",
       "      <th></th>\n",
       "      <th>tanggal</th>\n",
       "      <th>omset</th>\n",
       "      <th>operasional</th>\n",
       "    </tr>\n",
       "  </thead>\n",
       "  <tbody>\n",
       "    <tr>\n",
       "      <th>0</th>\n",
       "      <td>2000-01-01</td>\n",
       "      <td>100000</td>\n",
       "      <td>170000</td>\n",
       "    </tr>\n",
       "    <tr>\n",
       "      <th>1</th>\n",
       "      <td>2000-01-02</td>\n",
       "      <td>1200000</td>\n",
       "      <td>30000</td>\n",
       "    </tr>\n",
       "    <tr>\n",
       "      <th>2</th>\n",
       "      <td>2000-01-03</td>\n",
       "      <td>1600000</td>\n",
       "      <td>190000</td>\n",
       "    </tr>\n",
       "    <tr>\n",
       "      <th>3</th>\n",
       "      <td>2000-01-04</td>\n",
       "      <td>1000000</td>\n",
       "      <td>180000</td>\n",
       "    </tr>\n",
       "    <tr>\n",
       "      <th>4</th>\n",
       "      <td>2000-01-05</td>\n",
       "      <td>200000</td>\n",
       "      <td>180000</td>\n",
       "    </tr>\n",
       "  </tbody>\n",
       "</table>\n",
       "</div>"
      ],
      "text/plain": [
       "     tanggal    omset  operasional\n",
       "0 2000-01-01   100000       170000\n",
       "1 2000-01-02  1200000        30000\n",
       "2 2000-01-03  1600000       190000\n",
       "3 2000-01-04  1000000       180000\n",
       "4 2000-01-05   200000       180000"
      ]
     },
     "execution_count": 6,
     "metadata": {},
     "output_type": "execute_result"
    }
   ],
   "source": [
    "df.index=pd.util.testing.makeDateIndex(n_rows,freq='D')\n",
    "df=df.reset_index()\n",
    "df=df.rename(columns={'index':'tanggal'})\n",
    "df"
   ]
  },
  {
   "cell_type": "markdown",
   "id": "5c5db524",
   "metadata": {},
   "source": [
    "### Melakukan Formatting tampilan data "
   ]
  },
  {
   "cell_type": "code",
   "execution_count": 7,
   "id": "e244cbdb",
   "metadata": {},
   "outputs": [
    {
     "data": {
      "text/html": [
       "<style  type=\"text/css\" >\n",
       "</style><table id=\"T_59f93_\" ><thead>    <tr>        <th class=\"blank level0\" ></th>        <th class=\"col_heading level0 col0\" >tanggal</th>        <th class=\"col_heading level0 col1\" >omset</th>        <th class=\"col_heading level0 col2\" >operasional</th>    </tr></thead><tbody>\n",
       "                <tr>\n",
       "                        <th id=\"T_59f93_level0_row0\" class=\"row_heading level0 row0\" >0</th>\n",
       "                        <td id=\"T_59f93_row0_col0\" class=\"data row0 col0\" >01/01/00</td>\n",
       "                        <td id=\"T_59f93_row0_col1\" class=\"data row0 col1\" >100000</td>\n",
       "                        <td id=\"T_59f93_row0_col2\" class=\"data row0 col2\" >RP 170000.00</td>\n",
       "            </tr>\n",
       "            <tr>\n",
       "                        <th id=\"T_59f93_level0_row1\" class=\"row_heading level0 row1\" >1</th>\n",
       "                        <td id=\"T_59f93_row1_col0\" class=\"data row1 col0\" >02/01/00</td>\n",
       "                        <td id=\"T_59f93_row1_col1\" class=\"data row1 col1\" >1200000</td>\n",
       "                        <td id=\"T_59f93_row1_col2\" class=\"data row1 col2\" >RP 30000.00</td>\n",
       "            </tr>\n",
       "            <tr>\n",
       "                        <th id=\"T_59f93_level0_row2\" class=\"row_heading level0 row2\" >2</th>\n",
       "                        <td id=\"T_59f93_row2_col0\" class=\"data row2 col0\" >03/01/00</td>\n",
       "                        <td id=\"T_59f93_row2_col1\" class=\"data row2 col1\" >1600000</td>\n",
       "                        <td id=\"T_59f93_row2_col2\" class=\"data row2 col2\" >RP 190000.00</td>\n",
       "            </tr>\n",
       "            <tr>\n",
       "                        <th id=\"T_59f93_level0_row3\" class=\"row_heading level0 row3\" >3</th>\n",
       "                        <td id=\"T_59f93_row3_col0\" class=\"data row3 col0\" >04/01/00</td>\n",
       "                        <td id=\"T_59f93_row3_col1\" class=\"data row3 col1\" >1000000</td>\n",
       "                        <td id=\"T_59f93_row3_col2\" class=\"data row3 col2\" >RP 180000.00</td>\n",
       "            </tr>\n",
       "            <tr>\n",
       "                        <th id=\"T_59f93_level0_row4\" class=\"row_heading level0 row4\" >4</th>\n",
       "                        <td id=\"T_59f93_row4_col0\" class=\"data row4 col0\" >05/01/00</td>\n",
       "                        <td id=\"T_59f93_row4_col1\" class=\"data row4 col1\" >200000</td>\n",
       "                        <td id=\"T_59f93_row4_col2\" class=\"data row4 col2\" >RP 180000.00</td>\n",
       "            </tr>\n",
       "    </tbody></table>"
      ],
      "text/plain": [
       "<pandas.io.formats.style.Styler at 0x1d6d6eef730>"
      ]
     },
     "execution_count": 7,
     "metadata": {},
     "output_type": "execute_result"
    }
   ],
   "source": [
    "formatku={'tanggal':'{:%d/%m/%y}',\n",
    "         'operasional':'RP {:.2f}',\n",
    "         'omset ':'Rp {:.2f}'}\n",
    "laporan=df.style.format(formatku)\n",
    "laporan"
   ]
  },
  {
   "cell_type": "code",
   "execution_count": 8,
   "id": "4af38566",
   "metadata": {},
   "outputs": [
    {
     "data": {
      "text/plain": [
       "pandas.io.formats.style.Styler"
      ]
     },
     "execution_count": 8,
     "metadata": {},
     "output_type": "execute_result"
    }
   ],
   "source": [
    "type(laporan)"
   ]
  },
  {
   "cell_type": "code",
   "execution_count": 9,
   "id": "05089370",
   "metadata": {},
   "outputs": [
    {
     "data": {
      "text/html": [
       "<style  type=\"text/css\" >\n",
       "</style><table id=\"T_59f93_\" ><thead>    <tr>        <th class=\"col_heading level0 col0\" >tanggal</th>        <th class=\"col_heading level0 col1\" >omset</th>        <th class=\"col_heading level0 col2\" >operasional</th>    </tr></thead><tbody>\n",
       "                <tr>\n",
       "                                <td id=\"T_59f93_row0_col0\" class=\"data row0 col0\" >01/01/00</td>\n",
       "                        <td id=\"T_59f93_row0_col1\" class=\"data row0 col1\" >100000</td>\n",
       "                        <td id=\"T_59f93_row0_col2\" class=\"data row0 col2\" >RP 170000.00</td>\n",
       "            </tr>\n",
       "            <tr>\n",
       "                                <td id=\"T_59f93_row1_col0\" class=\"data row1 col0\" >02/01/00</td>\n",
       "                        <td id=\"T_59f93_row1_col1\" class=\"data row1 col1\" >1200000</td>\n",
       "                        <td id=\"T_59f93_row1_col2\" class=\"data row1 col2\" >RP 30000.00</td>\n",
       "            </tr>\n",
       "            <tr>\n",
       "                                <td id=\"T_59f93_row2_col0\" class=\"data row2 col0\" >03/01/00</td>\n",
       "                        <td id=\"T_59f93_row2_col1\" class=\"data row2 col1\" >1600000</td>\n",
       "                        <td id=\"T_59f93_row2_col2\" class=\"data row2 col2\" >RP 190000.00</td>\n",
       "            </tr>\n",
       "            <tr>\n",
       "                                <td id=\"T_59f93_row3_col0\" class=\"data row3 col0\" >04/01/00</td>\n",
       "                        <td id=\"T_59f93_row3_col1\" class=\"data row3 col1\" >1000000</td>\n",
       "                        <td id=\"T_59f93_row3_col2\" class=\"data row3 col2\" >RP 180000.00</td>\n",
       "            </tr>\n",
       "            <tr>\n",
       "                                <td id=\"T_59f93_row4_col0\" class=\"data row4 col0\" >05/01/00</td>\n",
       "                        <td id=\"T_59f93_row4_col1\" class=\"data row4 col1\" >200000</td>\n",
       "                        <td id=\"T_59f93_row4_col2\" class=\"data row4 col2\" >RP 180000.00</td>\n",
       "            </tr>\n",
       "    </tbody></table>"
      ],
      "text/plain": [
       "<pandas.io.formats.style.Styler at 0x1d6d6eef730>"
      ]
     },
     "execution_count": 9,
     "metadata": {},
     "output_type": "execute_result"
    }
   ],
   "source": [
    "laporan.hide_index()"
   ]
  },
  {
   "cell_type": "code",
   "execution_count": 10,
   "id": "4224214f",
   "metadata": {},
   "outputs": [
    {
     "data": {
      "text/html": [
       "<style  type=\"text/css\" >\n",
       "</style><table id=\"T_59f93_\" ><caption>Data Omset dan Operasional</caption><thead>    <tr>        <th class=\"col_heading level0 col0\" >tanggal</th>        <th class=\"col_heading level0 col1\" >omset</th>        <th class=\"col_heading level0 col2\" >operasional</th>    </tr></thead><tbody>\n",
       "                <tr>\n",
       "                                <td id=\"T_59f93_row0_col0\" class=\"data row0 col0\" >01/01/00</td>\n",
       "                        <td id=\"T_59f93_row0_col1\" class=\"data row0 col1\" >100000</td>\n",
       "                        <td id=\"T_59f93_row0_col2\" class=\"data row0 col2\" >RP 170000.00</td>\n",
       "            </tr>\n",
       "            <tr>\n",
       "                                <td id=\"T_59f93_row1_col0\" class=\"data row1 col0\" >02/01/00</td>\n",
       "                        <td id=\"T_59f93_row1_col1\" class=\"data row1 col1\" >1200000</td>\n",
       "                        <td id=\"T_59f93_row1_col2\" class=\"data row1 col2\" >RP 30000.00</td>\n",
       "            </tr>\n",
       "            <tr>\n",
       "                                <td id=\"T_59f93_row2_col0\" class=\"data row2 col0\" >03/01/00</td>\n",
       "                        <td id=\"T_59f93_row2_col1\" class=\"data row2 col1\" >1600000</td>\n",
       "                        <td id=\"T_59f93_row2_col2\" class=\"data row2 col2\" >RP 190000.00</td>\n",
       "            </tr>\n",
       "            <tr>\n",
       "                                <td id=\"T_59f93_row3_col0\" class=\"data row3 col0\" >04/01/00</td>\n",
       "                        <td id=\"T_59f93_row3_col1\" class=\"data row3 col1\" >1000000</td>\n",
       "                        <td id=\"T_59f93_row3_col2\" class=\"data row3 col2\" >RP 180000.00</td>\n",
       "            </tr>\n",
       "            <tr>\n",
       "                                <td id=\"T_59f93_row4_col0\" class=\"data row4 col0\" >05/01/00</td>\n",
       "                        <td id=\"T_59f93_row4_col1\" class=\"data row4 col1\" >200000</td>\n",
       "                        <td id=\"T_59f93_row4_col2\" class=\"data row4 col2\" >RP 180000.00</td>\n",
       "            </tr>\n",
       "    </tbody></table>"
      ],
      "text/plain": [
       "<pandas.io.formats.style.Styler at 0x1d6d6eef730>"
      ]
     },
     "execution_count": 10,
     "metadata": {},
     "output_type": "execute_result"
    }
   ],
   "source": [
    "laporan.set_caption('Data Omset dan Operasional')"
   ]
  },
  {
   "cell_type": "code",
   "execution_count": 11,
   "id": "c22b0778",
   "metadata": {},
   "outputs": [
    {
     "data": {
      "text/html": [
       "<style  type=\"text/css\" >\n",
       "#T_59f93_row0_col1{\n",
       "            background-color:  pink;\n",
       "        }#T_59f93_row1_col2{\n",
       "            background-color:  lightblue;\n",
       "        }#T_59f93_row2_col1{\n",
       "            background-color:  lightgreen;\n",
       "        }#T_59f93_row2_col2{\n",
       "            background-color:  grey;\n",
       "        }</style><table id=\"T_59f93_\" ><caption>Data Omset dan Operasional</caption><thead>    <tr>        <th class=\"col_heading level0 col0\" >tanggal</th>        <th class=\"col_heading level0 col1\" >omset</th>        <th class=\"col_heading level0 col2\" >operasional</th>    </tr></thead><tbody>\n",
       "                <tr>\n",
       "                                <td id=\"T_59f93_row0_col0\" class=\"data row0 col0\" >01/01/00</td>\n",
       "                        <td id=\"T_59f93_row0_col1\" class=\"data row0 col1\" >100000</td>\n",
       "                        <td id=\"T_59f93_row0_col2\" class=\"data row0 col2\" >RP 170000.00</td>\n",
       "            </tr>\n",
       "            <tr>\n",
       "                                <td id=\"T_59f93_row1_col0\" class=\"data row1 col0\" >02/01/00</td>\n",
       "                        <td id=\"T_59f93_row1_col1\" class=\"data row1 col1\" >1200000</td>\n",
       "                        <td id=\"T_59f93_row1_col2\" class=\"data row1 col2\" >RP 30000.00</td>\n",
       "            </tr>\n",
       "            <tr>\n",
       "                                <td id=\"T_59f93_row2_col0\" class=\"data row2 col0\" >03/01/00</td>\n",
       "                        <td id=\"T_59f93_row2_col1\" class=\"data row2 col1\" >1600000</td>\n",
       "                        <td id=\"T_59f93_row2_col2\" class=\"data row2 col2\" >RP 190000.00</td>\n",
       "            </tr>\n",
       "            <tr>\n",
       "                                <td id=\"T_59f93_row3_col0\" class=\"data row3 col0\" >04/01/00</td>\n",
       "                        <td id=\"T_59f93_row3_col1\" class=\"data row3 col1\" >1000000</td>\n",
       "                        <td id=\"T_59f93_row3_col2\" class=\"data row3 col2\" >RP 180000.00</td>\n",
       "            </tr>\n",
       "            <tr>\n",
       "                                <td id=\"T_59f93_row4_col0\" class=\"data row4 col0\" >05/01/00</td>\n",
       "                        <td id=\"T_59f93_row4_col1\" class=\"data row4 col1\" >200000</td>\n",
       "                        <td id=\"T_59f93_row4_col2\" class=\"data row4 col2\" >RP 180000.00</td>\n",
       "            </tr>\n",
       "    </tbody></table>"
      ],
      "text/plain": [
       "<pandas.io.formats.style.Styler at 0x1d6d6eef730>"
      ]
     },
     "execution_count": 11,
     "metadata": {},
     "output_type": "execute_result"
    }
   ],
   "source": [
    "laporan.highlight_min('omset',color='pink')\n",
    "laporan.highlight_max('omset',color='lightgreen')\n",
    "\n",
    "laporan.highlight_min('operasional',color='lightblue')\n",
    "laporan.highlight_max('operasional',color='grey')"
   ]
  },
  {
   "cell_type": "code",
   "execution_count": null,
   "id": "267c7990",
   "metadata": {},
   "outputs": [],
   "source": []
  }
 ],
 "metadata": {
  "kernelspec": {
   "display_name": "Python 3",
   "language": "python",
   "name": "python3"
  },
  "language_info": {
   "codemirror_mode": {
    "name": "ipython",
    "version": 3
   },
   "file_extension": ".py",
   "mimetype": "text/x-python",
   "name": "python",
   "nbconvert_exporter": "python",
   "pygments_lexer": "ipython3",
   "version": "3.8.8"
  }
 },
 "nbformat": 4,
 "nbformat_minor": 5
}
