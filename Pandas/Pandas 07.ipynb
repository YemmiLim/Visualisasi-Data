{
 "cells": [
  {
   "cell_type": "markdown",
   "id": "93b83dc4",
   "metadata": {},
   "source": [
    "## Mengimport Modul"
   ]
  },
  {
   "cell_type": "code",
   "execution_count": 2,
   "id": "882da194",
   "metadata": {},
   "outputs": [
    {
     "name": "stdout",
     "output_type": "stream",
     "text": [
      "1.2.4\n"
     ]
    }
   ],
   "source": [
    "import pandas as pd\n",
    "\n",
    "\n",
    "print (pd.__version__)\n"
   ]
  },
  {
   "cell_type": "markdown",
   "id": "9ec8b59e",
   "metadata": {},
   "source": [
    "## Membuat sebuah data Frame"
   ]
  },
  {
   "cell_type": "code",
   "execution_count": 3,
   "id": "2da19cb5",
   "metadata": {},
   "outputs": [
    {
     "name": "stderr",
     "output_type": "stream",
     "text": [
      "E:\\Anaconda\\lib\\site-packages\\pandas\\util\\__init__.py:8: FutureWarning: pandas.util.testing is deprecated. Use the functions in the public API at pandas.testing instead.\n",
      "  import pandas.util.testing\n"
     ]
    },
    {
     "data": {
      "text/html": [
       "<div>\n",
       "<style scoped>\n",
       "    .dataframe tbody tr th:only-of-type {\n",
       "        vertical-align: middle;\n",
       "    }\n",
       "\n",
       "    .dataframe tbody tr th {\n",
       "        vertical-align: top;\n",
       "    }\n",
       "\n",
       "    .dataframe thead th {\n",
       "        text-align: right;\n",
       "    }\n",
       "</style>\n",
       "<table border=\"1\" class=\"dataframe\">\n",
       "  <thead>\n",
       "    <tr style=\"text-align: right;\">\n",
       "      <th></th>\n",
       "      <th>index</th>\n",
       "      <th>A</th>\n",
       "      <th>B</th>\n",
       "      <th>C</th>\n",
       "      <th>D</th>\n",
       "    </tr>\n",
       "  </thead>\n",
       "  <tbody>\n",
       "    <tr>\n",
       "      <th>0</th>\n",
       "      <td>JSUZrrI998</td>\n",
       "      <td>0.204117</td>\n",
       "      <td>0.178278</td>\n",
       "      <td>1.068183</td>\n",
       "      <td>-0.242753</td>\n",
       "    </tr>\n",
       "    <tr>\n",
       "      <th>1</th>\n",
       "      <td>phn9M1o3gB</td>\n",
       "      <td>-0.593396</td>\n",
       "      <td>0.057915</td>\n",
       "      <td>-0.557200</td>\n",
       "      <td>-1.134062</td>\n",
       "    </tr>\n",
       "    <tr>\n",
       "      <th>2</th>\n",
       "      <td>z2onXFcacE</td>\n",
       "      <td>1.883420</td>\n",
       "      <td>-1.568830</td>\n",
       "      <td>0.196308</td>\n",
       "      <td>2.070998</td>\n",
       "    </tr>\n",
       "    <tr>\n",
       "      <th>3</th>\n",
       "      <td>Ars5SsEajT</td>\n",
       "      <td>NaN</td>\n",
       "      <td>1.078451</td>\n",
       "      <td>0.660316</td>\n",
       "      <td>NaN</td>\n",
       "    </tr>\n",
       "    <tr>\n",
       "      <th>4</th>\n",
       "      <td>eXHSbFK8mw</td>\n",
       "      <td>-2.452783</td>\n",
       "      <td>NaN</td>\n",
       "      <td>1.378086</td>\n",
       "      <td>-1.268497</td>\n",
       "    </tr>\n",
       "  </tbody>\n",
       "</table>\n",
       "</div>"
      ],
      "text/plain": [
       "        index         A         B         C         D\n",
       "0  JSUZrrI998  0.204117  0.178278  1.068183 -0.242753\n",
       "1  phn9M1o3gB -0.593396  0.057915 -0.557200 -1.134062\n",
       "2  z2onXFcacE  1.883420 -1.568830  0.196308  2.070998\n",
       "3  Ars5SsEajT       NaN  1.078451  0.660316       NaN\n",
       "4  eXHSbFK8mw -2.452783       NaN  1.378086 -1.268497"
      ]
     },
     "execution_count": 3,
     "metadata": {},
     "output_type": "execute_result"
    }
   ],
   "source": [
    "df = pd.util.testing.makeMissingDataframe().reset_index()\n",
    "df.head()\n",
    "#sebuah data frame yang mempunyai data yang hilang /NaN"
   ]
  },
  {
   "cell_type": "code",
   "execution_count": 6,
   "id": "31525c26",
   "metadata": {},
   "outputs": [
    {
     "data": {
      "text/html": [
       "<div>\n",
       "<style scoped>\n",
       "    .dataframe tbody tr th:only-of-type {\n",
       "        vertical-align: middle;\n",
       "    }\n",
       "\n",
       "    .dataframe tbody tr th {\n",
       "        vertical-align: top;\n",
       "    }\n",
       "\n",
       "    .dataframe thead th {\n",
       "        text-align: right;\n",
       "    }\n",
       "</style>\n",
       "<table border=\"1\" class=\"dataframe\">\n",
       "  <thead>\n",
       "    <tr style=\"text-align: right;\">\n",
       "      <th></th>\n",
       "      <th>z</th>\n",
       "      <th>A</th>\n",
       "      <th>B</th>\n",
       "      <th>C</th>\n",
       "      <th>D</th>\n",
       "    </tr>\n",
       "  </thead>\n",
       "  <tbody>\n",
       "    <tr>\n",
       "      <th>0</th>\n",
       "      <td>JSUZrrI998</td>\n",
       "      <td>0.204117</td>\n",
       "      <td>0.178278</td>\n",
       "      <td>1.068183</td>\n",
       "      <td>-0.242753</td>\n",
       "    </tr>\n",
       "    <tr>\n",
       "      <th>1</th>\n",
       "      <td>phn9M1o3gB</td>\n",
       "      <td>-0.593396</td>\n",
       "      <td>0.057915</td>\n",
       "      <td>-0.557200</td>\n",
       "      <td>-1.134062</td>\n",
       "    </tr>\n",
       "    <tr>\n",
       "      <th>2</th>\n",
       "      <td>z2onXFcacE</td>\n",
       "      <td>1.883420</td>\n",
       "      <td>-1.568830</td>\n",
       "      <td>0.196308</td>\n",
       "      <td>2.070998</td>\n",
       "    </tr>\n",
       "    <tr>\n",
       "      <th>3</th>\n",
       "      <td>Ars5SsEajT</td>\n",
       "      <td>NaN</td>\n",
       "      <td>1.078451</td>\n",
       "      <td>0.660316</td>\n",
       "      <td>NaN</td>\n",
       "    </tr>\n",
       "    <tr>\n",
       "      <th>4</th>\n",
       "      <td>eXHSbFK8mw</td>\n",
       "      <td>-2.452783</td>\n",
       "      <td>NaN</td>\n",
       "      <td>1.378086</td>\n",
       "      <td>-1.268497</td>\n",
       "    </tr>\n",
       "  </tbody>\n",
       "</table>\n",
       "</div>"
      ],
      "text/plain": [
       "            z         A         B         C         D\n",
       "0  JSUZrrI998  0.204117  0.178278  1.068183 -0.242753\n",
       "1  phn9M1o3gB -0.593396  0.057915 -0.557200 -1.134062\n",
       "2  z2onXFcacE  1.883420 -1.568830  0.196308  2.070998\n",
       "3  Ars5SsEajT       NaN  1.078451  0.660316       NaN\n",
       "4  eXHSbFK8mw -2.452783       NaN  1.378086 -1.268497"
      ]
     },
     "execution_count": 6,
     "metadata": {},
     "output_type": "execute_result"
    }
   ],
   "source": [
    "df= df.rename(columns={'index':'z'})\n",
    "df.head()"
   ]
  },
  {
   "cell_type": "code",
   "execution_count": 15,
   "id": "baa798ed",
   "metadata": {},
   "outputs": [
    {
     "data": {
      "text/html": [
       "<div>\n",
       "<style scoped>\n",
       "    .dataframe tbody tr th:only-of-type {\n",
       "        vertical-align: middle;\n",
       "    }\n",
       "\n",
       "    .dataframe tbody tr th {\n",
       "        vertical-align: top;\n",
       "    }\n",
       "\n",
       "    .dataframe thead th {\n",
       "        text-align: right;\n",
       "    }\n",
       "</style>\n",
       "<table border=\"1\" class=\"dataframe\">\n",
       "  <thead>\n",
       "    <tr style=\"text-align: right;\">\n",
       "      <th></th>\n",
       "      <th>z</th>\n",
       "    </tr>\n",
       "  </thead>\n",
       "  <tbody>\n",
       "    <tr>\n",
       "      <th>0</th>\n",
       "      <td>JSUZrrI998</td>\n",
       "    </tr>\n",
       "    <tr>\n",
       "      <th>1</th>\n",
       "      <td>phn9M1o3gB</td>\n",
       "    </tr>\n",
       "    <tr>\n",
       "      <th>2</th>\n",
       "      <td>z2onXFcacE</td>\n",
       "    </tr>\n",
       "    <tr>\n",
       "      <th>3</th>\n",
       "      <td>Ars5SsEajT</td>\n",
       "    </tr>\n",
       "    <tr>\n",
       "      <th>4</th>\n",
       "      <td>eXHSbFK8mw</td>\n",
       "    </tr>\n",
       "  </tbody>\n",
       "</table>\n",
       "</div>"
      ],
      "text/plain": [
       "            z\n",
       "0  JSUZrrI998\n",
       "1  phn9M1o3gB\n",
       "2  z2onXFcacE\n",
       "3  Ars5SsEajT\n",
       "4  eXHSbFK8mw"
      ]
     },
     "execution_count": 15,
     "metadata": {},
     "output_type": "execute_result"
    }
   ],
   "source": [
    "df_backup=df.copy(deep=True)\n",
    "df.head()"
   ]
  },
  {
   "cell_type": "markdown",
   "id": "aaa38531",
   "metadata": {},
   "source": [
    "## Menghapus setiap kolom yang mengandung NaN"
   ]
  },
  {
   "cell_type": "code",
   "execution_count": 12,
   "id": "8fb81d83",
   "metadata": {},
   "outputs": [
    {
     "data": {
      "text/html": [
       "<div>\n",
       "<style scoped>\n",
       "    .dataframe tbody tr th:only-of-type {\n",
       "        vertical-align: middle;\n",
       "    }\n",
       "\n",
       "    .dataframe tbody tr th {\n",
       "        vertical-align: top;\n",
       "    }\n",
       "\n",
       "    .dataframe thead th {\n",
       "        text-align: right;\n",
       "    }\n",
       "</style>\n",
       "<table border=\"1\" class=\"dataframe\">\n",
       "  <thead>\n",
       "    <tr style=\"text-align: right;\">\n",
       "      <th></th>\n",
       "      <th>z</th>\n",
       "    </tr>\n",
       "  </thead>\n",
       "  <tbody>\n",
       "    <tr>\n",
       "      <th>0</th>\n",
       "      <td>JSUZrrI998</td>\n",
       "    </tr>\n",
       "    <tr>\n",
       "      <th>1</th>\n",
       "      <td>phn9M1o3gB</td>\n",
       "    </tr>\n",
       "    <tr>\n",
       "      <th>2</th>\n",
       "      <td>z2onXFcacE</td>\n",
       "    </tr>\n",
       "    <tr>\n",
       "      <th>3</th>\n",
       "      <td>Ars5SsEajT</td>\n",
       "    </tr>\n",
       "    <tr>\n",
       "      <th>4</th>\n",
       "      <td>eXHSbFK8mw</td>\n",
       "    </tr>\n",
       "  </tbody>\n",
       "</table>\n",
       "</div>"
      ],
      "text/plain": [
       "            z\n",
       "0  JSUZrrI998\n",
       "1  phn9M1o3gB\n",
       "2  z2onXFcacE\n",
       "3  Ars5SsEajT\n",
       "4  eXHSbFK8mw"
      ]
     },
     "execution_count": 12,
     "metadata": {},
     "output_type": "execute_result"
    }
   ],
   "source": [
    "df=df.dropna(axis='columns')\n",
    "df.head()"
   ]
  },
  {
   "cell_type": "markdown",
   "id": "dd56e4d9",
   "metadata": {},
   "source": [
    "# Menghapus setiap baris yang mengandung Mising Value\n"
   ]
  },
  {
   "cell_type": "code",
   "execution_count": 16,
   "id": "e34a8dcb",
   "metadata": {},
   "outputs": [
    {
     "data": {
      "text/html": [
       "<div>\n",
       "<style scoped>\n",
       "    .dataframe tbody tr th:only-of-type {\n",
       "        vertical-align: middle;\n",
       "    }\n",
       "\n",
       "    .dataframe tbody tr th {\n",
       "        vertical-align: top;\n",
       "    }\n",
       "\n",
       "    .dataframe thead th {\n",
       "        text-align: right;\n",
       "    }\n",
       "</style>\n",
       "<table border=\"1\" class=\"dataframe\">\n",
       "  <thead>\n",
       "    <tr style=\"text-align: right;\">\n",
       "      <th></th>\n",
       "      <th>z</th>\n",
       "    </tr>\n",
       "  </thead>\n",
       "  <tbody>\n",
       "    <tr>\n",
       "      <th>0</th>\n",
       "      <td>JSUZrrI998</td>\n",
       "    </tr>\n",
       "    <tr>\n",
       "      <th>1</th>\n",
       "      <td>phn9M1o3gB</td>\n",
       "    </tr>\n",
       "    <tr>\n",
       "      <th>2</th>\n",
       "      <td>z2onXFcacE</td>\n",
       "    </tr>\n",
       "    <tr>\n",
       "      <th>3</th>\n",
       "      <td>Ars5SsEajT</td>\n",
       "    </tr>\n",
       "    <tr>\n",
       "      <th>4</th>\n",
       "      <td>eXHSbFK8mw</td>\n",
       "    </tr>\n",
       "  </tbody>\n",
       "</table>\n",
       "</div>"
      ],
      "text/plain": [
       "            z\n",
       "0  JSUZrrI998\n",
       "1  phn9M1o3gB\n",
       "2  z2onXFcacE\n",
       "3  Ars5SsEajT\n",
       "4  eXHSbFK8mw"
      ]
     },
     "execution_count": 16,
     "metadata": {},
     "output_type": "execute_result"
    }
   ],
   "source": [
    "df=df_backup.copy(deep=True)\n",
    "df=df.dropna(axis='rows')\n",
    "df.head()"
   ]
  },
  {
   "cell_type": "markdown",
   "id": "5c0aec07",
   "metadata": {},
   "source": [
    "### Presentase Mising value"
   ]
  },
  {
   "cell_type": "code",
   "execution_count": 17,
   "id": "ad0ba11a",
   "metadata": {},
   "outputs": [
    {
     "data": {
      "text/plain": [
       "z    0.0\n",
       "dtype: float64"
      ]
     },
     "execution_count": 17,
     "metadata": {},
     "output_type": "execute_result"
    }
   ],
   "source": [
    "df=df_backup.copy(deep=True)\n",
    "df.isna().mean()"
   ]
  },
  {
   "cell_type": "markdown",
   "id": "a8f4d1a8",
   "metadata": {},
   "source": [
    "# Menghapus setiap kolom bedasarkan value threshold"
   ]
  },
  {
   "cell_type": "code",
   "execution_count": 18,
   "id": "f20a1d19",
   "metadata": {},
   "outputs": [
    {
     "data": {
      "text/html": [
       "<div>\n",
       "<style scoped>\n",
       "    .dataframe tbody tr th:only-of-type {\n",
       "        vertical-align: middle;\n",
       "    }\n",
       "\n",
       "    .dataframe tbody tr th {\n",
       "        vertical-align: top;\n",
       "    }\n",
       "\n",
       "    .dataframe thead th {\n",
       "        text-align: right;\n",
       "    }\n",
       "</style>\n",
       "<table border=\"1\" class=\"dataframe\">\n",
       "  <thead>\n",
       "    <tr style=\"text-align: right;\">\n",
       "      <th></th>\n",
       "      <th>z</th>\n",
       "    </tr>\n",
       "  </thead>\n",
       "  <tbody>\n",
       "    <tr>\n",
       "      <th>0</th>\n",
       "      <td>JSUZrrI998</td>\n",
       "    </tr>\n",
       "    <tr>\n",
       "      <th>1</th>\n",
       "      <td>phn9M1o3gB</td>\n",
       "    </tr>\n",
       "    <tr>\n",
       "      <th>2</th>\n",
       "      <td>z2onXFcacE</td>\n",
       "    </tr>\n",
       "    <tr>\n",
       "      <th>3</th>\n",
       "      <td>Ars5SsEajT</td>\n",
       "    </tr>\n",
       "    <tr>\n",
       "      <th>4</th>\n",
       "      <td>eXHSbFK8mw</td>\n",
       "    </tr>\n",
       "  </tbody>\n",
       "</table>\n",
       "</div>"
      ],
      "text/plain": [
       "            z\n",
       "0  JSUZrrI998\n",
       "1  phn9M1o3gB\n",
       "2  z2onXFcacE\n",
       "3  Ars5SsEajT\n",
       "4  eXHSbFK8mw"
      ]
     },
     "execution_count": 18,
     "metadata": {},
     "output_type": "execute_result"
    }
   ],
   "source": [
    "treshold=len(df)*0.9\n",
    "df= df.dropna(thresh=treshold,axis=\"columns\")\n",
    "df.head()"
   ]
  },
  {
   "cell_type": "code",
   "execution_count": null,
   "id": "fd9f2d4b",
   "metadata": {},
   "outputs": [],
   "source": []
  }
 ],
 "metadata": {
  "kernelspec": {
   "display_name": "Python 3",
   "language": "python",
   "name": "python3"
  },
  "language_info": {
   "codemirror_mode": {
    "name": "ipython",
    "version": 3
   },
   "file_extension": ".py",
   "mimetype": "text/x-python",
   "name": "python",
   "nbconvert_exporter": "python",
   "pygments_lexer": "ipython3",
   "version": "3.8.8"
  }
 },
 "nbformat": 4,
 "nbformat_minor": 5
}
