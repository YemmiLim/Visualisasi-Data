{
 "cells": [
  {
   "cell_type": "markdown",
   "id": "6e7e0679",
   "metadata": {},
   "source": [
    "### Membentuk Dummy Data Frame"
   ]
  },
  {
   "cell_type": "markdown",
   "id": "9cce69d7",
   "metadata": {},
   "source": [
    "### Import Modul"
   ]
  },
  {
   "cell_type": "code",
   "execution_count": 1,
   "id": "1f625c09",
   "metadata": {},
   "outputs": [
    {
     "name": "stdout",
     "output_type": "stream",
     "text": [
      "1.2.4\n",
      "1.20.1\n"
     ]
    }
   ],
   "source": [
    "import pandas as pd\n",
    "import numpy as np\n",
    "\n",
    "print(pd.__version__)\n",
    "print(np.__version__)"
   ]
  },
  {
   "cell_type": "markdown",
   "id": "1b5e594a",
   "metadata": {},
   "source": [
    "### Membentuk Data Frame"
   ]
  },
  {
   "cell_type": "code",
   "execution_count": 2,
   "id": "f2d68951",
   "metadata": {},
   "outputs": [
    {
     "data": {
      "text/html": [
       "<div>\n",
       "<style scoped>\n",
       "    .dataframe tbody tr th:only-of-type {\n",
       "        vertical-align: middle;\n",
       "    }\n",
       "\n",
       "    .dataframe tbody tr th {\n",
       "        vertical-align: top;\n",
       "    }\n",
       "\n",
       "    .dataframe thead th {\n",
       "        text-align: right;\n",
       "    }\n",
       "</style>\n",
       "<table border=\"1\" class=\"dataframe\">\n",
       "  <thead>\n",
       "    <tr style=\"text-align: right;\">\n",
       "      <th></th>\n",
       "      <th>col1</th>\n",
       "      <th>col2</th>\n",
       "    </tr>\n",
       "  </thead>\n",
       "  <tbody>\n",
       "    <tr>\n",
       "      <th>0</th>\n",
       "      <td>1</td>\n",
       "      <td>5</td>\n",
       "    </tr>\n",
       "    <tr>\n",
       "      <th>1</th>\n",
       "      <td>2</td>\n",
       "      <td>6</td>\n",
       "    </tr>\n",
       "    <tr>\n",
       "      <th>2</th>\n",
       "      <td>3</td>\n",
       "      <td>7</td>\n",
       "    </tr>\n",
       "    <tr>\n",
       "      <th>3</th>\n",
       "      <td>4</td>\n",
       "      <td>8</td>\n",
       "    </tr>\n",
       "  </tbody>\n",
       "</table>\n",
       "</div>"
      ],
      "text/plain": [
       "   col1  col2\n",
       "0     1     5\n",
       "1     2     6\n",
       "2     3     7\n",
       "3     4     8"
      ]
     },
     "execution_count": 2,
     "metadata": {},
     "output_type": "execute_result"
    }
   ],
   "source": [
    "pd.DataFrame({'col1':[1,2,3,4],\n",
    "             'col2':[5,6,7,8]})"
   ]
  },
  {
   "cell_type": "markdown",
   "id": "09e93f37",
   "metadata": {},
   "source": [
    "## Membentuk data frame dari numpy Array"
   ]
  },
  {
   "cell_type": "code",
   "execution_count": 3,
   "id": "4c501e42",
   "metadata": {},
   "outputs": [
    {
     "data": {
      "text/plain": [
       "array([[18,  5,  9],\n",
       "       [10,  2, 14],\n",
       "       [11,  4, 16],\n",
       "       [ 7, 11, 19],\n",
       "       [11, 13, 16]])"
      ]
     },
     "execution_count": 3,
     "metadata": {},
     "output_type": "execute_result"
    }
   ],
   "source": [
    "n_rows=5\n",
    "n_cols=3\n",
    "arr=np.random.randint(1,20,size=(n_rows,n_cols))#Menghasilkan Numpy Array untuk membentuk suatu data Frame\n",
    "arr"
   ]
  },
  {
   "cell_type": "code",
   "execution_count": 4,
   "id": "2a66f474",
   "metadata": {},
   "outputs": [
    {
     "data": {
      "text/html": [
       "<div>\n",
       "<style scoped>\n",
       "    .dataframe tbody tr th:only-of-type {\n",
       "        vertical-align: middle;\n",
       "    }\n",
       "\n",
       "    .dataframe tbody tr th {\n",
       "        vertical-align: top;\n",
       "    }\n",
       "\n",
       "    .dataframe thead th {\n",
       "        text-align: right;\n",
       "    }\n",
       "</style>\n",
       "<table border=\"1\" class=\"dataframe\">\n",
       "  <thead>\n",
       "    <tr style=\"text-align: right;\">\n",
       "      <th></th>\n",
       "      <th>A</th>\n",
       "      <th>B</th>\n",
       "      <th>C</th>\n",
       "    </tr>\n",
       "  </thead>\n",
       "  <tbody>\n",
       "    <tr>\n",
       "      <th>0</th>\n",
       "      <td>18</td>\n",
       "      <td>5</td>\n",
       "      <td>9</td>\n",
       "    </tr>\n",
       "    <tr>\n",
       "      <th>1</th>\n",
       "      <td>10</td>\n",
       "      <td>2</td>\n",
       "      <td>14</td>\n",
       "    </tr>\n",
       "    <tr>\n",
       "      <th>2</th>\n",
       "      <td>11</td>\n",
       "      <td>4</td>\n",
       "      <td>16</td>\n",
       "    </tr>\n",
       "    <tr>\n",
       "      <th>3</th>\n",
       "      <td>7</td>\n",
       "      <td>11</td>\n",
       "      <td>19</td>\n",
       "    </tr>\n",
       "    <tr>\n",
       "      <th>4</th>\n",
       "      <td>11</td>\n",
       "      <td>13</td>\n",
       "      <td>16</td>\n",
       "    </tr>\n",
       "  </tbody>\n",
       "</table>\n",
       "</div>"
      ],
      "text/plain": [
       "    A   B   C\n",
       "0  18   5   9\n",
       "1  10   2  14\n",
       "2  11   4  16\n",
       "3   7  11  19\n",
       "4  11  13  16"
      ]
     },
     "execution_count": 4,
     "metadata": {},
     "output_type": "execute_result"
    }
   ],
   "source": [
    "pd.DataFrame(arr,columns=tuple('ABC')) #Aray berubah menjadi Data Frame"
   ]
  },
  {
   "cell_type": "markdown",
   "id": "22b79b68",
   "metadata": {},
   "source": [
    "### Membentuk Data Frame dengan pandas.util.testing"
   ]
  },
  {
   "cell_type": "code",
   "execution_count": 5,
   "id": "e188c510",
   "metadata": {},
   "outputs": [
    {
     "name": "stderr",
     "output_type": "stream",
     "text": [
      "E:\\Anaconda\\lib\\site-packages\\pandas\\util\\__init__.py:8: FutureWarning: pandas.util.testing is deprecated. Use the functions in the public API at pandas.testing instead.\n",
      "  import pandas.util.testing\n"
     ]
    },
    {
     "data": {
      "text/html": [
       "<div>\n",
       "<style scoped>\n",
       "    .dataframe tbody tr th:only-of-type {\n",
       "        vertical-align: middle;\n",
       "    }\n",
       "\n",
       "    .dataframe tbody tr th {\n",
       "        vertical-align: top;\n",
       "    }\n",
       "\n",
       "    .dataframe thead th {\n",
       "        text-align: right;\n",
       "    }\n",
       "</style>\n",
       "<table border=\"1\" class=\"dataframe\">\n",
       "  <thead>\n",
       "    <tr style=\"text-align: right;\">\n",
       "      <th></th>\n",
       "      <th>A</th>\n",
       "      <th>B</th>\n",
       "      <th>C</th>\n",
       "      <th>D</th>\n",
       "    </tr>\n",
       "  </thead>\n",
       "  <tbody>\n",
       "    <tr>\n",
       "      <th>fp5X7hMnX9</th>\n",
       "      <td>-1.228669</td>\n",
       "      <td>1.092523</td>\n",
       "      <td>-1.374157</td>\n",
       "      <td>0.659614</td>\n",
       "    </tr>\n",
       "    <tr>\n",
       "      <th>3f6Qpi35Og</th>\n",
       "      <td>-0.418898</td>\n",
       "      <td>-1.086569</td>\n",
       "      <td>1.036165</td>\n",
       "      <td>0.126316</td>\n",
       "    </tr>\n",
       "    <tr>\n",
       "      <th>yCklKlsX5S</th>\n",
       "      <td>-1.183766</td>\n",
       "      <td>1.567426</td>\n",
       "      <td>0.276307</td>\n",
       "      <td>0.657756</td>\n",
       "    </tr>\n",
       "    <tr>\n",
       "      <th>CVKF0v8iyJ</th>\n",
       "      <td>-0.664634</td>\n",
       "      <td>-0.754150</td>\n",
       "      <td>-0.070407</td>\n",
       "      <td>0.452153</td>\n",
       "    </tr>\n",
       "    <tr>\n",
       "      <th>FOux2zKTGO</th>\n",
       "      <td>-0.922206</td>\n",
       "      <td>-0.384145</td>\n",
       "      <td>-0.383886</td>\n",
       "      <td>0.293924</td>\n",
       "    </tr>\n",
       "  </tbody>\n",
       "</table>\n",
       "</div>"
      ],
      "text/plain": [
       "                   A         B         C         D\n",
       "fp5X7hMnX9 -1.228669  1.092523 -1.374157  0.659614\n",
       "3f6Qpi35Og -0.418898 -1.086569  1.036165  0.126316\n",
       "yCklKlsX5S -1.183766  1.567426  0.276307  0.657756\n",
       "CVKF0v8iyJ -0.664634 -0.754150 -0.070407  0.452153\n",
       "FOux2zKTGO -0.922206 -0.384145 -0.383886  0.293924"
      ]
     },
     "execution_count": 5,
     "metadata": {},
     "output_type": "execute_result"
    }
   ],
   "source": [
    "pd.util.testing.makeDataFrame().head()"
   ]
  },
  {
   "cell_type": "code",
   "execution_count": 6,
   "id": "71a92b34",
   "metadata": {},
   "outputs": [
    {
     "data": {
      "text/html": [
       "<div>\n",
       "<style scoped>\n",
       "    .dataframe tbody tr th:only-of-type {\n",
       "        vertical-align: middle;\n",
       "    }\n",
       "\n",
       "    .dataframe tbody tr th {\n",
       "        vertical-align: top;\n",
       "    }\n",
       "\n",
       "    .dataframe thead th {\n",
       "        text-align: right;\n",
       "    }\n",
       "</style>\n",
       "<table border=\"1\" class=\"dataframe\">\n",
       "  <thead>\n",
       "    <tr style=\"text-align: right;\">\n",
       "      <th></th>\n",
       "      <th>A</th>\n",
       "      <th>B</th>\n",
       "      <th>C</th>\n",
       "      <th>D</th>\n",
       "    </tr>\n",
       "  </thead>\n",
       "  <tbody>\n",
       "    <tr>\n",
       "      <th>0</th>\n",
       "      <td>0.0</td>\n",
       "      <td>0.0</td>\n",
       "      <td>foo1</td>\n",
       "      <td>2009-01-01</td>\n",
       "    </tr>\n",
       "    <tr>\n",
       "      <th>1</th>\n",
       "      <td>1.0</td>\n",
       "      <td>1.0</td>\n",
       "      <td>foo2</td>\n",
       "      <td>2009-01-02</td>\n",
       "    </tr>\n",
       "    <tr>\n",
       "      <th>2</th>\n",
       "      <td>2.0</td>\n",
       "      <td>0.0</td>\n",
       "      <td>foo3</td>\n",
       "      <td>2009-01-05</td>\n",
       "    </tr>\n",
       "    <tr>\n",
       "      <th>3</th>\n",
       "      <td>3.0</td>\n",
       "      <td>1.0</td>\n",
       "      <td>foo4</td>\n",
       "      <td>2009-01-06</td>\n",
       "    </tr>\n",
       "    <tr>\n",
       "      <th>4</th>\n",
       "      <td>4.0</td>\n",
       "      <td>0.0</td>\n",
       "      <td>foo5</td>\n",
       "      <td>2009-01-07</td>\n",
       "    </tr>\n",
       "  </tbody>\n",
       "</table>\n",
       "</div>"
      ],
      "text/plain": [
       "     A    B     C          D\n",
       "0  0.0  0.0  foo1 2009-01-01\n",
       "1  1.0  1.0  foo2 2009-01-02\n",
       "2  2.0  0.0  foo3 2009-01-05\n",
       "3  3.0  1.0  foo4 2009-01-06\n",
       "4  4.0  0.0  foo5 2009-01-07"
      ]
     },
     "execution_count": 6,
     "metadata": {},
     "output_type": "execute_result"
    }
   ],
   "source": [
    "pd.util.testing.makeMixedDataFrame().head()"
   ]
  },
  {
   "cell_type": "code",
   "execution_count": 7,
   "id": "d8c8ff07",
   "metadata": {},
   "outputs": [
    {
     "data": {
      "text/html": [
       "<div>\n",
       "<style scoped>\n",
       "    .dataframe tbody tr th:only-of-type {\n",
       "        vertical-align: middle;\n",
       "    }\n",
       "\n",
       "    .dataframe tbody tr th {\n",
       "        vertical-align: top;\n",
       "    }\n",
       "\n",
       "    .dataframe thead th {\n",
       "        text-align: right;\n",
       "    }\n",
       "</style>\n",
       "<table border=\"1\" class=\"dataframe\">\n",
       "  <thead>\n",
       "    <tr style=\"text-align: right;\">\n",
       "      <th></th>\n",
       "      <th>A</th>\n",
       "      <th>B</th>\n",
       "      <th>C</th>\n",
       "      <th>D</th>\n",
       "    </tr>\n",
       "  </thead>\n",
       "  <tbody>\n",
       "    <tr>\n",
       "      <th>2000-01-03</th>\n",
       "      <td>0.320047</td>\n",
       "      <td>-0.629438</td>\n",
       "      <td>0.024906</td>\n",
       "      <td>1.336077</td>\n",
       "    </tr>\n",
       "    <tr>\n",
       "      <th>2000-01-04</th>\n",
       "      <td>0.266356</td>\n",
       "      <td>0.255610</td>\n",
       "      <td>0.090520</td>\n",
       "      <td>2.096818</td>\n",
       "    </tr>\n",
       "    <tr>\n",
       "      <th>2000-01-05</th>\n",
       "      <td>-0.379930</td>\n",
       "      <td>1.336563</td>\n",
       "      <td>0.593714</td>\n",
       "      <td>0.601467</td>\n",
       "    </tr>\n",
       "    <tr>\n",
       "      <th>2000-01-06</th>\n",
       "      <td>0.275876</td>\n",
       "      <td>-0.639880</td>\n",
       "      <td>1.429910</td>\n",
       "      <td>0.359431</td>\n",
       "    </tr>\n",
       "    <tr>\n",
       "      <th>2000-01-07</th>\n",
       "      <td>0.366172</td>\n",
       "      <td>-0.964074</td>\n",
       "      <td>0.870262</td>\n",
       "      <td>-0.036450</td>\n",
       "    </tr>\n",
       "  </tbody>\n",
       "</table>\n",
       "</div>"
      ],
      "text/plain": [
       "                   A         B         C         D\n",
       "2000-01-03  0.320047 -0.629438  0.024906  1.336077\n",
       "2000-01-04  0.266356  0.255610  0.090520  2.096818\n",
       "2000-01-05 -0.379930  1.336563  0.593714  0.601467\n",
       "2000-01-06  0.275876 -0.639880  1.429910  0.359431\n",
       "2000-01-07  0.366172 -0.964074  0.870262 -0.036450"
      ]
     },
     "execution_count": 7,
     "metadata": {},
     "output_type": "execute_result"
    }
   ],
   "source": [
    "pd.util.testing.makeTimeDataFrame().head()"
   ]
  },
  {
   "cell_type": "code",
   "execution_count": 9,
   "id": "5c0545e6",
   "metadata": {},
   "outputs": [
    {
     "data": {
      "text/html": [
       "<div>\n",
       "<style scoped>\n",
       "    .dataframe tbody tr th:only-of-type {\n",
       "        vertical-align: middle;\n",
       "    }\n",
       "\n",
       "    .dataframe tbody tr th {\n",
       "        vertical-align: top;\n",
       "    }\n",
       "\n",
       "    .dataframe thead th {\n",
       "        text-align: right;\n",
       "    }\n",
       "</style>\n",
       "<table border=\"1\" class=\"dataframe\">\n",
       "  <thead>\n",
       "    <tr style=\"text-align: right;\">\n",
       "      <th></th>\n",
       "      <th>A</th>\n",
       "      <th>B</th>\n",
       "      <th>C</th>\n",
       "      <th>D</th>\n",
       "    </tr>\n",
       "  </thead>\n",
       "  <tbody>\n",
       "    <tr>\n",
       "      <th>JZnyG14GHS</th>\n",
       "      <td>0.845272</td>\n",
       "      <td>-0.237349</td>\n",
       "      <td>0.137767</td>\n",
       "      <td>-0.526428</td>\n",
       "    </tr>\n",
       "    <tr>\n",
       "      <th>ma8km8wUVN</th>\n",
       "      <td>0.176907</td>\n",
       "      <td>-1.233795</td>\n",
       "      <td>-1.075129</td>\n",
       "      <td>-0.529914</td>\n",
       "    </tr>\n",
       "    <tr>\n",
       "      <th>igN45m0Ttp</th>\n",
       "      <td>NaN</td>\n",
       "      <td>-0.376981</td>\n",
       "      <td>NaN</td>\n",
       "      <td>-0.238518</td>\n",
       "    </tr>\n",
       "    <tr>\n",
       "      <th>vPWEgrkDNU</th>\n",
       "      <td>0.578349</td>\n",
       "      <td>-0.922154</td>\n",
       "      <td>0.339014</td>\n",
       "      <td>-0.175532</td>\n",
       "    </tr>\n",
       "    <tr>\n",
       "      <th>ybAi7fr4I4</th>\n",
       "      <td>-0.205224</td>\n",
       "      <td>-0.642544</td>\n",
       "      <td>0.656938</td>\n",
       "      <td>1.081988</td>\n",
       "    </tr>\n",
       "  </tbody>\n",
       "</table>\n",
       "</div>"
      ],
      "text/plain": [
       "                   A         B         C         D\n",
       "JZnyG14GHS  0.845272 -0.237349  0.137767 -0.526428\n",
       "ma8km8wUVN  0.176907 -1.233795 -1.075129 -0.529914\n",
       "igN45m0Ttp       NaN -0.376981       NaN -0.238518\n",
       "vPWEgrkDNU  0.578349 -0.922154  0.339014 -0.175532\n",
       "ybAi7fr4I4 -0.205224 -0.642544  0.656938  1.081988"
      ]
     },
     "execution_count": 9,
     "metadata": {},
     "output_type": "execute_result"
    }
   ],
   "source": [
    "pd.util.testing.makeMissingDataframe().head()"
   ]
  },
  {
   "cell_type": "code",
   "execution_count": null,
   "id": "44b4abec",
   "metadata": {},
   "outputs": [],
   "source": []
  }
 ],
 "metadata": {
  "kernelspec": {
   "display_name": "Python 3",
   "language": "python",
   "name": "python3"
  },
  "language_info": {
   "codemirror_mode": {
    "name": "ipython",
    "version": 3
   },
   "file_extension": ".py",
   "mimetype": "text/x-python",
   "name": "python",
   "nbconvert_exporter": "python",
   "pygments_lexer": "ipython3",
   "version": "3.8.8"
  }
 },
 "nbformat": 4,
 "nbformat_minor": 5
}
