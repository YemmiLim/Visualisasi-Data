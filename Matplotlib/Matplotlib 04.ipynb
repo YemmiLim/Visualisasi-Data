{
 "cells": [
  {
   "cell_type": "markdown",
   "id": "d292baa3",
   "metadata": {},
   "source": [
    "## Membuat Histogram"
   ]
  },
  {
   "cell_type": "markdown",
   "id": "79ebc665",
   "metadata": {},
   "source": [
    "### Import Modul"
   ]
  },
  {
   "cell_type": "code",
   "execution_count": 2,
   "id": "cdf4bd62",
   "metadata": {},
   "outputs": [
    {
     "name": "stdout",
     "output_type": "stream",
     "text": [
      "3.3.4\n",
      "1.20.1\n"
     ]
    }
   ],
   "source": [
    "import matplotlib\n",
    "import matplotlib.pyplot as plt\n",
    "import numpy as np \n",
    "\n",
    "print(matplotlib.__version__)\n",
    "print(np.__version__)"
   ]
  },
  {
   "cell_type": "markdown",
   "id": "2962d087",
   "metadata": {},
   "source": [
    "### Sample Data"
   ]
  },
  {
   "cell_type": "code",
   "execution_count": 3,
   "id": "cb5e49f2",
   "metadata": {},
   "outputs": [
    {
     "data": {
      "text/plain": [
       "array([110.31932951,  94.85901207, 109.59864514, ..., 110.08912927,\n",
       "       106.28314778, 128.00768719])"
      ]
     },
     "execution_count": 3,
     "metadata": {},
     "output_type": "execute_result"
    }
   ],
   "source": [
    "mu,sigma=100,15\n",
    "\n",
    "x=mu+sigma*np.random.randn(10000)\n",
    "x"
   ]
  },
  {
   "cell_type": "code",
   "execution_count": 4,
   "id": "1f1e4a27",
   "metadata": {},
   "outputs": [
    {
     "data": {
      "text/plain": [
       "(10000,)"
      ]
     },
     "execution_count": 4,
     "metadata": {},
     "output_type": "execute_result"
    }
   ],
   "source": [
    "x.shape"
   ]
  },
  {
   "cell_type": "markdown",
   "id": "889259ac",
   "metadata": {},
   "source": [
    "## Histogram dengan pyplot"
   ]
  },
  {
   "cell_type": "code",
   "execution_count": 6,
   "id": "37f5735a",
   "metadata": {},
   "outputs": [
    {
     "data": {
      "image/png": "[encoded data removed]",
      "text/plain": [
       "<Figure size 432x288 with 1 Axes>"
      ]
     },
     "metadata": {
      "needs_background": "light"
     },
     "output_type": "display_data"
    }
   ],
   "source": [
    "plt.hist(x,bins=50,facecolor='g',alpha=0.45)\n",
    "\n",
    "plt.xlabel('Sumbu X')\n",
    "plt.ylabel('Sumbu y')\n",
    "plt.title('Contoh')\n",
    "\n",
    "\n",
    "plt.text(45,500,r'$\\mu=100,\\ \\ sigma=155$')\n",
    "plt.grid()\n",
    "plt.show()"
   ]
  },
  {
   "cell_type": "markdown",
   "id": "58443c5e",
   "metadata": {},
   "source": [
    "### Histogram Dengan 00 Style"
   ]
  },
  {
   "cell_type": "code",
   "execution_count": 8,
   "id": "570dd866",
   "metadata": {},
   "outputs": [
    {
     "data": {
      "image/png": "[encoded data removed]",
      "text/plain": [
       "<Figure size 432x288 with 1 Axes>"
      ]
     },
     "metadata": {
      "needs_background": "light"
     },
     "output_type": "display_data"
    }
   ],
   "source": [
    "fig,ax=plt.subplots()\n",
    "\n",
    "ax.hist(x,bins=50,facecolor='b',alpha=0.25)\n",
    "\n",
    "ax.set_xlabel('Sumbu X')\n",
    "ax.set_ylabel('Sumbu Y')\n",
    "ax.set_title('Contoh Histogram')\n",
    "\n",
    "ax.text(45,500,r'$\\mu=100,\\ \\ sigma=155$')\n",
    "ax.grid()\n",
    "plt.show()"
   ]
  },
  {
   "cell_type": "code",
   "execution_count": null,
   "id": "27be695b",
   "metadata": {},
   "outputs": [],
   "source": []
  }
 ],
 "metadata": {
  "kernelspec": {
   "display_name": "Python 3",
   "language": "python",
   "name": "python3"
  },
  "language_info": {
   "codemirror_mode": {
    "name": "ipython",
    "version": 3
   },
   "file_extension": ".py",
   "mimetype": "text/x-python",
   "name": "python",
   "nbconvert_exporter": "python",
   "pygments_lexer": "ipython3",
   "version": "3.8.8"
  }
 },
 "nbformat": 4,
 "nbformat_minor": 5
}
