{
 "cells": [
  {
   "cell_type": "markdown",
   "id": "41722dc5",
   "metadata": {},
   "source": [
    "## Import Modul"
   ]
  },
  {
   "cell_type": "code",
   "execution_count": 1,
   "id": "08a8029f",
   "metadata": {},
   "outputs": [],
   "source": [
    "%matplotlib inline"
   ]
  },
  {
   "cell_type": "code",
   "execution_count": 2,
   "id": "4c548def",
   "metadata": {},
   "outputs": [
    {
     "name": "stdout",
     "output_type": "stream",
     "text": [
      "3.3.4\n",
      "1.20.1\n"
     ]
    }
   ],
   "source": [
    "import matplotlib\n",
    "import matplotlib.pyplot as plt\n",
    "from matplotlib import style\n",
    "import numpy as np\n",
    "\n",
    "print(matplotlib.__version__)\n",
    "print(np.__version__)\n",
    "\n"
   ]
  },
  {
   "cell_type": "markdown",
   "id": "868240f4",
   "metadata": {},
   "source": [
    "## Fungsi Ploting"
   ]
  },
  {
   "cell_type": "code",
   "execution_count": 5,
   "id": "94689ec5",
   "metadata": {},
   "outputs": [],
   "source": [
    "def gambar_barplot():\n",
    "    data1=[25,85,75,40,60]\n",
    "    data2=[40,35,20,55,10]\n",
    "    kategori =['A','B','C','D','E']\n",
    "    \n",
    "    x=np.arange(len(kategori))\n",
    "    \n",
    "    width=0.35\n",
    "    \n",
    "    plt.bar(x-width/2,data1,width,label='Data1')\n",
    "    plt.bar(x+width/2,data1,width,label='Data2')\n",
    "    \n",
    "    plt.xticks(x,kategori)\n",
    "    plt.grid(linestyle='--',\n",
    "            linewidth=1,\n",
    "            axis='y',\n",
    "            alpha=0.75)\n",
    "    \n",
    "    plt.xlabel('Kategori')\n",
    "    plt.ylabel('Jumlah')\n",
    "    plt.title('Contoh Grouped Bar Plot')\n",
    "    \n",
    "    plt.legend()\n",
    "    plt.show"
   ]
  },
  {
   "cell_type": "code",
   "execution_count": 6,
   "id": "f8af55e8",
   "metadata": {},
   "outputs": [
    {
     "data": {
      "image/png": "[encoded data removed]",
      "text/plain": [
       "<Figure size 432x288 with 1 Axes>"
      ]
     },
     "metadata": {
      "needs_background": "light"
     },
     "output_type": "display_data"
    }
   ],
   "source": [
    "gambar_barplot()"
   ]
  },
  {
   "cell_type": "markdown",
   "id": "08428d5c",
   "metadata": {},
   "source": [
    "## Matplotlib Style"
   ]
  },
  {
   "cell_type": "code",
   "execution_count": 7,
   "id": "1aa8c2bc",
   "metadata": {},
   "outputs": [
    {
     "data": {
      "text/plain": [
       "['Solarize_Light2',\n",
       " '_classic_test_patch',\n",
       " 'bmh',\n",
       " 'classic',\n",
       " 'dark_background',\n",
       " 'fast',\n",
       " 'fivethirtyeight',\n",
       " 'ggplot',\n",
       " 'grayscale',\n",
       " 'seaborn',\n",
       " 'seaborn-bright',\n",
       " 'seaborn-colorblind',\n",
       " 'seaborn-dark',\n",
       " 'seaborn-dark-palette',\n",
       " 'seaborn-darkgrid',\n",
       " 'seaborn-deep',\n",
       " 'seaborn-muted',\n",
       " 'seaborn-notebook',\n",
       " 'seaborn-paper',\n",
       " 'seaborn-pastel',\n",
       " 'seaborn-poster',\n",
       " 'seaborn-talk',\n",
       " 'seaborn-ticks',\n",
       " 'seaborn-white',\n",
       " 'seaborn-whitegrid',\n",
       " 'tableau-colorblind10']"
      ]
     },
     "execution_count": 7,
     "metadata": {},
     "output_type": "execute_result"
    }
   ],
   "source": [
    "plt.style.available"
   ]
  },
  {
   "cell_type": "code",
   "execution_count": 9,
   "id": "0849b864",
   "metadata": {},
   "outputs": [
    {
     "data": {
      "image/png": "[encoded data removed]",
      "text/plain": [
       "<Figure size 432x288 with 1 Axes>"
      ]
     },
     "metadata": {},
     "output_type": "display_data"
    }
   ],
   "source": [
    "style.use('grayscale')\n",
    "gambar_barplot()"
   ]
  },
  {
   "cell_type": "code",
   "execution_count": null,
   "id": "c3d71497",
   "metadata": {},
   "outputs": [],
   "source": []
  }
 ],
 "metadata": {
  "kernelspec": {
   "display_name": "Python 3",
   "language": "python",
   "name": "python3"
  },
  "language_info": {
   "codemirror_mode": {
    "name": "ipython",
    "version": 3
   },
   "file_extension": ".py",
   "mimetype": "text/x-python",
   "name": "python",
   "nbconvert_exporter": "python",
   "pygments_lexer": "ipython3",
   "version": "3.8.8"
  }
 },
 "nbformat": 4,
 "nbformat_minor": 5
}
