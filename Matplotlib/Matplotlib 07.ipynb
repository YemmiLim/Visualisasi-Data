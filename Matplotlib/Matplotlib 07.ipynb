{
 "cells": [
  {
   "cell_type": "code",
   "execution_count": 1,
   "id": "f7173383",
   "metadata": {},
   "outputs": [],
   "source": [
    "%matplotlib inline"
   ]
  },
  {
   "cell_type": "code",
   "execution_count": 2,
   "id": "cf8e9481",
   "metadata": {},
   "outputs": [
    {
     "name": "stdout",
     "output_type": "stream",
     "text": [
      "3.3.4\n",
      "1.20.1\n"
     ]
    }
   ],
   "source": [
    "import matplotlib\n",
    "import matplotlib.pyplot as plt\n",
    "import numpy as np\n",
    "\n",
    "print(matplotlib.__version__)\n",
    "print(np.__version__)"
   ]
  },
  {
   "cell_type": "code",
   "execution_count": 3,
   "id": "156ea0e8",
   "metadata": {},
   "outputs": [],
   "source": [
    "data_uas=[['Bejo',70],\n",
    "         ['Tejo',83],\n",
    "         ['Cecep',62],\n",
    "          ['Wati',74],\n",
    "         ['Karti',71]\n",
    "         ]"
   ]
  },
  {
   "cell_type": "code",
   "execution_count": 4,
   "id": "3cec3b54",
   "metadata": {},
   "outputs": [
    {
     "data": {
      "text/plain": [
       "[['Bejo', 70], ['Tejo', 83], ['Cecep', 62], ['Wati', 74], ['Karti', 71]]"
      ]
     },
     "execution_count": 4,
     "metadata": {},
     "output_type": "execute_result"
    }
   ],
   "source": [
    "data_uas"
   ]
  },
  {
   "cell_type": "markdown",
   "id": "568eb07d",
   "metadata": {},
   "source": [
    "### Table Plot dengan 00 Style"
   ]
  },
  {
   "cell_type": "code",
   "execution_count": 9,
   "id": "59740dfb",
   "metadata": {},
   "outputs": [
    {
     "data": {
      "image/png": "[encoded data removed]",
      "text/plain": [
       "<Figure size 432x288 with 1 Axes>"
      ]
     },
     "metadata": {
      "needs_background": "light"
     },
     "output_type": "display_data"
    }
   ],
   "source": [
    "fig,ax=plt.subplots()\n",
    "\n",
    "table=plt.table(cellText=data_uas,\n",
    "               loc='center')\n",
    "\n",
    "table.set_fontsize(18)\n",
    "table.scale(0.5,3) #Ukuran kolom, baris\n",
    "\n",
    "#ax.axis(False)\n",
    "\n",
    "plt.show()\n"
   ]
  },
  {
   "cell_type": "markdown",
   "id": "fb934b52",
   "metadata": {},
   "source": [
    "### Table Plot dengan pyplot Style"
   ]
  },
  {
   "cell_type": "code",
   "execution_count": null,
   "id": "2fbf91e6",
   "metadata": {},
   "outputs": [],
   "source": [
    "table =plt.table(cellText=data_uas,\n",
    "                loc=c)"
   ]
  }
 ],
 "metadata": {
  "kernelspec": {
   "display_name": "Python 3",
   "language": "python",
   "name": "python3"
  },
  "language_info": {
   "codemirror_mode": {
    "name": "ipython",
    "version": 3
   },
   "file_extension": ".py",
   "mimetype": "text/x-python",
   "name": "python",
   "nbconvert_exporter": "python",
   "pygments_lexer": "ipython3",
   "version": "3.8.8"
  }
 },
 "nbformat": 4,
 "nbformat_minor": 5
}
